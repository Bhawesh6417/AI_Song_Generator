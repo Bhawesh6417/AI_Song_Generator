{
  "nbformat": 4,
  "nbformat_minor": 0,
  "metadata": {
    "colab": {
      "provenance": []
    },
    "kernelspec": {
      "name": "python3",
      "display_name": "Python 3"
    },
    "language_info": {
      "name": "python"
    }
  },
  "cells": [
    {
      "cell_type": "code",
      "execution_count": 8,
      "metadata": {
        "id": "5QS-zZ-8qsvT",
        "colab": {
          "base_uri": "https://localhost:8080/"
        },
        "outputId": "1839feb2-98be-4e20-efb6-ff3c8d2d1921"
      },
      "outputs": [
        {
          "output_type": "stream",
          "name": "stdout",
          "text": [
            "Requirement already satisfied: google-generativeai in /usr/local/lib/python3.11/dist-packages (0.8.4)\n",
            "Requirement already satisfied: requests in /usr/local/lib/python3.11/dist-packages (2.31.0)\n",
            "Collecting selenium\n",
            "  Downloading selenium-4.29.0-py3-none-any.whl.metadata (7.1 kB)\n",
            "Requirement already satisfied: google-ai-generativelanguage==0.6.15 in /usr/local/lib/python3.11/dist-packages (from google-generativeai) (0.6.15)\n",
            "Requirement already satisfied: google-api-core in /usr/local/lib/python3.11/dist-packages (from google-generativeai) (2.24.1)\n",
            "Requirement already satisfied: google-api-python-client in /usr/local/lib/python3.11/dist-packages (from google-generativeai) (2.160.0)\n",
            "Requirement already satisfied: google-auth>=2.15.0 in /usr/local/lib/python3.11/dist-packages (from google-generativeai) (2.27.0)\n",
            "Requirement already satisfied: protobuf in /usr/local/lib/python3.11/dist-packages (from google-generativeai) (4.25.6)\n",
            "Requirement already satisfied: pydantic in /usr/local/lib/python3.11/dist-packages (from google-generativeai) (2.10.6)\n",
            "Requirement already satisfied: tqdm in /usr/local/lib/python3.11/dist-packages (from google-generativeai) (4.67.1)\n",
            "Requirement already satisfied: typing-extensions in /usr/local/lib/python3.11/dist-packages (from google-generativeai) (4.12.2)\n",
            "Requirement already satisfied: proto-plus<2.0.0dev,>=1.22.3 in /usr/local/lib/python3.11/dist-packages (from google-ai-generativelanguage==0.6.15->google-generativeai) (1.26.0)\n",
            "Requirement already satisfied: charset-normalizer<4,>=2 in /usr/local/lib/python3.11/dist-packages (from requests) (3.4.1)\n",
            "Requirement already satisfied: idna<4,>=2.5 in /usr/local/lib/python3.11/dist-packages (from requests) (3.10)\n",
            "Requirement already satisfied: urllib3<3,>=1.21.1 in /usr/local/lib/python3.11/dist-packages (from requests) (2.3.0)\n",
            "Requirement already satisfied: certifi>=2017.4.17 in /usr/local/lib/python3.11/dist-packages (from requests) (2025.1.31)\n",
            "Collecting trio~=0.17 (from selenium)\n",
            "  Downloading trio-0.29.0-py3-none-any.whl.metadata (8.5 kB)\n",
            "Collecting trio-websocket~=0.9 (from selenium)\n",
            "  Downloading trio_websocket-0.12.2-py3-none-any.whl.metadata (5.1 kB)\n",
            "Requirement already satisfied: websocket-client~=1.8 in /usr/local/lib/python3.11/dist-packages (from selenium) (1.8.0)\n",
            "Requirement already satisfied: googleapis-common-protos<2.0.dev0,>=1.56.2 in /usr/local/lib/python3.11/dist-packages (from google-api-core->google-generativeai) (1.68.0)\n",
            "Requirement already satisfied: cachetools<6.0,>=2.0.0 in /usr/local/lib/python3.11/dist-packages (from google-auth>=2.15.0->google-generativeai) (5.5.2)\n",
            "Requirement already satisfied: pyasn1-modules>=0.2.1 in /usr/local/lib/python3.11/dist-packages (from google-auth>=2.15.0->google-generativeai) (0.4.1)\n",
            "Requirement already satisfied: rsa<5,>=3.1.4 in /usr/local/lib/python3.11/dist-packages (from google-auth>=2.15.0->google-generativeai) (4.9)\n",
            "Requirement already satisfied: attrs>=23.2.0 in /usr/local/lib/python3.11/dist-packages (from trio~=0.17->selenium) (25.1.0)\n",
            "Requirement already satisfied: sortedcontainers in /usr/local/lib/python3.11/dist-packages (from trio~=0.17->selenium) (2.4.0)\n",
            "Collecting outcome (from trio~=0.17->selenium)\n",
            "  Downloading outcome-1.3.0.post0-py2.py3-none-any.whl.metadata (2.6 kB)\n",
            "Requirement already satisfied: sniffio>=1.3.0 in /usr/local/lib/python3.11/dist-packages (from trio~=0.17->selenium) (1.3.1)\n",
            "Collecting wsproto>=0.14 (from trio-websocket~=0.9->selenium)\n",
            "  Downloading wsproto-1.2.0-py3-none-any.whl.metadata (5.6 kB)\n",
            "Requirement already satisfied: pysocks!=1.5.7,<2.0,>=1.5.6 in /usr/local/lib/python3.11/dist-packages (from urllib3[socks]<3,>=1.26->selenium) (1.7.1)\n",
            "Requirement already satisfied: httplib2<1.dev0,>=0.19.0 in /usr/local/lib/python3.11/dist-packages (from google-api-python-client->google-generativeai) (0.22.0)\n",
            "Requirement already satisfied: google-auth-httplib2<1.0.0,>=0.2.0 in /usr/local/lib/python3.11/dist-packages (from google-api-python-client->google-generativeai) (0.2.0)\n",
            "Requirement already satisfied: uritemplate<5,>=3.0.1 in /usr/local/lib/python3.11/dist-packages (from google-api-python-client->google-generativeai) (4.1.1)\n",
            "Requirement already satisfied: annotated-types>=0.6.0 in /usr/local/lib/python3.11/dist-packages (from pydantic->google-generativeai) (0.7.0)\n",
            "Requirement already satisfied: pydantic-core==2.27.2 in /usr/local/lib/python3.11/dist-packages (from pydantic->google-generativeai) (2.27.2)\n",
            "Requirement already satisfied: grpcio<2.0dev,>=1.33.2 in /usr/local/lib/python3.11/dist-packages (from google-api-core[grpc]!=2.0.*,!=2.1.*,!=2.10.*,!=2.2.*,!=2.3.*,!=2.4.*,!=2.5.*,!=2.6.*,!=2.7.*,!=2.8.*,!=2.9.*,<3.0.0dev,>=1.34.1->google-ai-generativelanguage==0.6.15->google-generativeai) (1.70.0)\n",
            "Requirement already satisfied: grpcio-status<2.0.dev0,>=1.33.2 in /usr/local/lib/python3.11/dist-packages (from google-api-core[grpc]!=2.0.*,!=2.1.*,!=2.10.*,!=2.2.*,!=2.3.*,!=2.4.*,!=2.5.*,!=2.6.*,!=2.7.*,!=2.8.*,!=2.9.*,<3.0.0dev,>=1.34.1->google-ai-generativelanguage==0.6.15->google-generativeai) (1.62.3)\n",
            "Requirement already satisfied: pyparsing!=3.0.0,!=3.0.1,!=3.0.2,!=3.0.3,<4,>=2.4.2 in /usr/local/lib/python3.11/dist-packages (from httplib2<1.dev0,>=0.19.0->google-api-python-client->google-generativeai) (3.2.1)\n",
            "Requirement already satisfied: pyasn1<0.7.0,>=0.4.6 in /usr/local/lib/python3.11/dist-packages (from pyasn1-modules>=0.2.1->google-auth>=2.15.0->google-generativeai) (0.6.1)\n",
            "Requirement already satisfied: h11<1,>=0.9.0 in /usr/local/lib/python3.11/dist-packages (from wsproto>=0.14->trio-websocket~=0.9->selenium) (0.14.0)\n",
            "Downloading selenium-4.29.0-py3-none-any.whl (9.5 MB)\n",
            "\u001b[2K   \u001b[90m━━━━━━━━━━━━━━━━━━━━━━━━━━━━━━━━━━━━━━━━\u001b[0m \u001b[32m9.5/9.5 MB\u001b[0m \u001b[31m89.7 MB/s\u001b[0m eta \u001b[36m0:00:00\u001b[0m\n",
            "\u001b[?25hDownloading trio-0.29.0-py3-none-any.whl (492 kB)\n",
            "\u001b[2K   \u001b[90m━━━━━━━━━━━━━━━━━━━━━━━━━━━━━━━━━━━━━━━━\u001b[0m \u001b[32m492.9/492.9 kB\u001b[0m \u001b[31m41.8 MB/s\u001b[0m eta \u001b[36m0:00:00\u001b[0m\n",
            "\u001b[?25hDownloading trio_websocket-0.12.2-py3-none-any.whl (21 kB)\n",
            "Downloading outcome-1.3.0.post0-py2.py3-none-any.whl (10 kB)\n",
            "Downloading wsproto-1.2.0-py3-none-any.whl (24 kB)\n",
            "Installing collected packages: wsproto, outcome, trio, trio-websocket, selenium\n",
            "Successfully installed outcome-1.3.0.post0 selenium-4.29.0 trio-0.29.0 trio-websocket-0.12.2 wsproto-1.2.0\n"
          ]
        }
      ],
      "source": [
        "pip install google-generativeai requests"
      ]
    },
    {
      "cell_type": "code",
      "source": [
        "import google.generativeai as genai\n",
        "\n",
        "# Set up Gemini API\n",
        "GEMINI_API_KEY = \"write your token\"\n",
        "genai.configure(api_key=GEMINI_API_KEY)\n",
        "\n",
        "def generate_song_lyrics():\n",
        "    \"\"\" Ask user for song style and generate lyrics using Gemini. \"\"\"\n",
        "    song_type = input(\"Enter the type of song you want (e.g., pop, rap, sad, happy): \")\n",
        "\n",
        "    prompt = f\"Create hindi song lyrics for a {song_type} song. The song should have a verse, chorus, and a bridge in hindi language. write the lyrics in hindi language. Don't give me the explanation or notes just give me the lyrics. Make a song lyrics long.\"\n",
        "\n",
        "    model = genai.GenerativeModel(\"gemini-2.0-flash-exp\")\n",
        "    response = model.generate_content(prompt)\n",
        "\n",
        "    lyrics = response.text\n",
        "    print(\"\\nGenerated Lyrics:\\n\", lyrics)  # Print the generated lyrics\n",
        "    return lyrics\n",
        "# Run the function\n",
        "lyrics= generate_song_lyrics()"
      ],
      "metadata": {
        "id": "GHy79cOrrOzS",
        "colab": {
          "base_uri": "https://localhost:8080/",
          "height": 1000
        },
        "outputId": "414d75f7-cf40-41e6-8690-6a8fc22f1c71"
      },
      "execution_count": 9,
      "outputs": [
        {
          "output_type": "stream",
          "name": "stdout",
          "text": [
            "Enter the type of song you want (e.g., pop, rap, sad, happy): sad\n",
            "\n",
            "Generated Lyrics:\n",
            " Here are the Hindi lyrics for a sad song:\n",
            "\n",
            "**Title: टूटे सपने (Toote Sapne - Broken Dreams)**\n",
            "\n",
            "**(Verse 1)**\n",
            "धुंधली यादें, धुंधला सा मंज़र,\n",
            "बीते कल का, एक अधूरा सफ़र।\n",
            "आँखों में नमी, दिल में है दर्द गहरा,\n",
            "खो गया वो, जो था मेरा।\n",
            "हर राह सूनी, हर रात काली,\n",
            "ज़िंदगी जैसे, एक खाली डाली।\n",
            "\n",
            "**(Chorus)**\n",
            "टूटे सपने, बिखरे हैं ऐसे,\n",
            "जैसे रेत हाथों से फिसले।\n",
            "आंसू बनके, बहती है कहानी,\n",
            "प्यार की ये, अधूरी निशानी।\n",
            "टूटे सपने, टूटे सपने,\n",
            "खो गए, सब अपने।\n",
            "\n",
            "**(Verse 2)**\n",
            "वो हँसी तेरी, वो बातें प्यारी,\n",
            "अब लगती हैं, जैसे हों उधारी।\n",
            "हर लम्हा जैसे, एक बोझ बन गया,\n",
            "ज़िंदगी का, रंग ही उड़ गया।\n",
            "तन्हाई में, ढूँढूं सहारा,\n",
            "मिलता नहीं है, कोई किनारा।\n",
            "\n",
            "**(Chorus)**\n",
            "टूटे सपने, बिखरे हैं ऐसे,\n",
            "जैसे रेत हाथों से फिसले।\n",
            "आंसू बनके, बहती है कहानी,\n",
            "प्यार की ये, अधूरी निशानी।\n",
            "टूटे सपने, टूटे सपने,\n",
            "खो गए, सब अपने।\n",
            "\n",
            "**(Bridge)**\n",
            "कैसे भुलाऊं, वो बीते पल,\n",
            "कैसे सहूं, ये दर्द हर पल।\n",
            "कोई तो बताए, क्या है वजह,\n",
            "क्यों मिली है, ये ऐसी सज़ा।\n",
            "क्या कोई उम्मीद, बाकी है अब भी,\n",
            "या बस गम का, सागर ही है सब ही?\n",
            "\n",
            "**(Chorus)**\n",
            "टूटे सपने, बिखरे हैं ऐसे,\n",
            "जैसे रेत हाथों से फिसले।\n",
            "आंसू बनके, बहती है कहानी,\n",
            "प्यार की ये, अधूरी निशानी।\n",
            "टूटे सपने, टूटे सपने,\n",
            "खो गए, सब अपने।\n",
            "\n",
            "**(Outro)**\n",
            "टूटे सपने... ओ... टूटे सपने...\n",
            "खो गए... सब अपने...\n",
            "\n"
          ]
        }
      ]
    },
    {
      "cell_type": "code",
      "source": [
        "pip install git+https://github.com/flowese/UdioWrapper.git"
      ],
      "metadata": {
        "colab": {
          "base_uri": "https://localhost:8080/",
          "height": 477
        },
        "id": "XAjkKoB2xfbP",
        "outputId": "3fa6e0ef-18cb-4882-872f-8a5a6359b551"
      },
      "execution_count": 19,
      "outputs": [
        {
          "output_type": "stream",
          "name": "stdout",
          "text": [
            "Collecting git+https://github.com/flowese/UdioWrapper.git\n",
            "  Cloning https://github.com/flowese/UdioWrapper.git to /tmp/pip-req-build-kv5wsby4\n",
            "  Running command git clone --filter=blob:none --quiet https://github.com/flowese/UdioWrapper.git /tmp/pip-req-build-kv5wsby4\n",
            "  Resolved https://github.com/flowese/UdioWrapper.git to commit d5ef8576e61faf2d0f2f867452743bb77c568621\n",
            "  Preparing metadata (setup.py) ... \u001b[?25l\u001b[?25hdone\n",
            "Requirement already satisfied: requests==2.31.0 in /usr/local/lib/python3.11/dist-packages (from udio_wrapper==0.0.1) (2.31.0)\n",
            "Requirement already satisfied: charset-normalizer<4,>=2 in /usr/local/lib/python3.11/dist-packages (from requests==2.31.0->udio_wrapper==0.0.1) (3.4.1)\n",
            "Requirement already satisfied: idna<4,>=2.5 in /usr/local/lib/python3.11/dist-packages (from requests==2.31.0->udio_wrapper==0.0.1) (3.10)\n",
            "Requirement already satisfied: urllib3<3,>=1.21.1 in /usr/local/lib/python3.11/dist-packages (from requests==2.31.0->udio_wrapper==0.0.1) (2.3.0)\n",
            "Requirement already satisfied: certifi>=2017.4.17 in /usr/local/lib/python3.11/dist-packages (from requests==2.31.0->udio_wrapper==0.0.1) (2025.1.31)\n",
            "Building wheels for collected packages: udio_wrapper\n",
            "  Building wheel for udio_wrapper (setup.py) ... \u001b[?25l\u001b[?25hdone\n",
            "  Created wheel for udio_wrapper: filename=udio_wrapper-0.0.1-py3-none-any.whl size=4371 sha256=35e67ff15c674b751fd9dc2c3d31c1e95985a94073dfe77728ce2f0056395493\n",
            "  Stored in directory: /tmp/pip-ephem-wheel-cache-46fzvevd/wheels/da/f5/5e/672a9d0cadac619963175284f30cf03e8c3b3e83c26ae44416\n",
            "Successfully built udio_wrapper\n",
            "Installing collected packages: udio_wrapper\n",
            "  Attempting uninstall: udio_wrapper\n",
            "    Found existing installation: udio-wrapper 0.0.3\n",
            "    Uninstalling udio-wrapper-0.0.3:\n",
            "      Successfully uninstalled udio-wrapper-0.0.3\n",
            "Successfully installed udio_wrapper-0.0.1\n"
          ]
        },
        {
          "output_type": "display_data",
          "data": {
            "application/vnd.colab-display-data+json": {
              "pip_warning": {
                "packages": [
                  "udio_wrapper"
                ]
              },
              "id": "3862ffb1ca564adab534357a04d21819"
            }
          },
          "metadata": {}
        }
      ]
    },
    {
      "cell_type": "code",
      "source": [
        "from udio_wrapper import UdioWrapper\n",
        "\n",
        "# Replace with your actual Udio authentication token\n",
        "auth_token = \"your auth token\"\n",
        "udio_wrapper = UdioWrapper(auth_token)\n",
        "\n",
        "lyrics=generate_song_lyrics()\n",
        "\n",
        "# Generate the song\n",
        "short_song = udio_wrapper.create_song(\n",
        "    prompt=\"Relaxing jazz and soulful music\",\n",
        "    seed=-1,  # Use a specific seed or -1 for random\n",
        "    custom_lyrics=lyrics\n",
        ")\n",
        "\n",
        "# Print the response (Check if song generation was successful)\n",
        "print(\"Short song generated:\", short_song)\n",
        "\n",
        "# Check if a song URL is available\n",
        "if isinstance(short_song, dict) and \"download_url\" in short_song:\n",
        "    song_url = short_song[\"download_url\"]\n",
        "    print(\"Downloading song from:\", song_url)\n",
        "\n",
        "    # Download the song\n",
        "    udio_wrapper.download_song(song_url, song_title=\"short_song\", file_path=\"short_song.mp3\")\n",
        "    print(\"Song downloaded successfully as 'short_song.mp3'\")\n",
        "else:\n",
        "    print(\"Failed to generate or retrieve song download URL.\")\n"
      ],
      "metadata": {
        "colab": {
          "base_uri": "https://localhost:8080/"
        },
        "id": "WICgkN907rma",
        "outputId": "ecdaf61a-9070-49cd-ad50-48c723def22f"
      },
      "execution_count": 2,
      "outputs": [
        {
          "output_type": "stream",
          "name": "stdout",
          "text": [
            "Error making POST request to https://www.udio.com/api/generate-proxy: 401 Client Error: Unauthorized for url: https://www.udio.com/api/generate-proxy\n",
            "Short song generated: None\n",
            "Failed to generate or retrieve song download URL.\n"
          ]
        }
      ]
    }
  ]
}
